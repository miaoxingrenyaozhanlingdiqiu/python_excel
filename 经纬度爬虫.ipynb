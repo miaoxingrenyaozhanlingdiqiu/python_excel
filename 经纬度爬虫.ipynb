{
 "cells": [
  {
   "cell_type": "code",
   "execution_count": 15,
   "metadata": {},
   "outputs": [],
   "source": [
    "import pandas as pd\n",
    "import requests\n",
    "import time\n",
    "import csv\n",
    "import json\n",
    " \n",
    "def baidu(addr):\n",
    "    url = \"http://api.map.baidu.com/geocoding/v3/?\" #百度地图API接口\n",
    "    para = {\n",
    "        \"address\": addr, #传入地址参数\n",
    "        \"output\": \"json\",\n",
    "        \"ak\": \"X1vLRpOIAPRayl7VDnzT7al1jhIzCZGl\" #百度地图开放平台申请ak\n",
    "    }\n",
    "    req = requests.get(url,para)\n",
    "    req = req.json()\n",
    "    #print(req)\n",
    "#     print('-' * 30)\n",
    "    m = req[\"result\"][\"location\"]\n",
    "    g = f\"{m['lng']},{m['lat']}\"\n",
    "#     print(g)\n",
    "    return g\n",
    "\n",
    "\n",
    "\n",
    "df3 = pd.read_excel('try.xlsx')\n",
    "time_start = time.time()\n",
    "df3['经纬度'] = df3['address'].apply(baidu)\n",
    "# time_end = time.time()\n",
    "# t = time_end-time_start\n",
    "# print('共用时%s秒'%t)\n",
    "\n",
    "# df3.head()\n",
    "df3.to_excel('result.xlsx',index = False)\n"
   ]
  },
  {
   "cell_type": "code",
   "execution_count": null,
   "metadata": {},
   "outputs": [],
   "source": []
  },
  {
   "cell_type": "code",
   "execution_count": null,
   "metadata": {},
   "outputs": [],
   "source": [
    "\n"
   ]
  },
  {
   "cell_type": "code",
   "execution_count": 24,
   "metadata": {},
   "outputs": [],
   "source": [
    "\n",
    "import pandas as pd\n",
    "import requests\n",
    "import time\n",
    "import csv\n",
    "import json\n",
    " \n",
    "def baidu(addr):\n",
    "    url = \"http://api.map.baidu.com/geocoding/v3/?\" #百度地图API接口\n",
    "    para = {\n",
    "        \"address\": addr, #传入地址参数\n",
    "        \"output\": \"json\",\n",
    "        \"ak\": \"X1vLRpOIAPRayl7VDnzT7al1jhIzCZGl\" #百度地图开放平台申请ak\n",
    "    }\n",
    "    req = requests.get(url,para)\n",
    "    req = req.json()\n",
    "    #print(req)\n",
    "    #print('-' * 30)\n",
    "    m = req[\"result\"][\"location\"]\n",
    "    g = f\"{m['lng']},{m['lat']}\"\n",
    "    #print(g)\n",
    "    return g\n",
    "df3 = pd.read_excel('try.xlsx')\n",
    "time_start = time.time()\n",
    "df3['经纬度'] = df3['address'].apply(baidu)\n",
    "# time_end = time.time()\n",
    "# t = time_end-time_start\n",
    "# print('共用时%s秒'%t)\n",
    "\n",
    "# df3.head()\n",
    "df3.to_excel('result.xlsx',index = False)\n"
   ]
  },
  {
   "cell_type": "code",
   "execution_count": null,
   "metadata": {},
   "outputs": [],
   "source": []
  }
 ],
 "metadata": {
  "kernelspec": {
   "display_name": "Python 3",
   "language": "python",
   "name": "python3"
  },
  "language_info": {
   "codemirror_mode": {
    "name": "ipython",
    "version": 3
   },
   "file_extension": ".py",
   "mimetype": "text/x-python",
   "name": "python",
   "nbconvert_exporter": "python",
   "pygments_lexer": "ipython3",
   "version": "3.8.5"
  }
 },
 "nbformat": 4,
 "nbformat_minor": 4
}
