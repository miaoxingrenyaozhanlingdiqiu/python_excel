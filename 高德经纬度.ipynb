{
 "cells": [
  {
   "cell_type": "code",
   "execution_count": 7,
   "metadata": {},
   "outputs": [
    {
     "data": {
      "text/plain": [
       "'{\"status\":\"1\",\"info\":\"OK\",\"infocode\":\"10000\",\"count\":\"0\",\"geocodes\":[]}'"
      ]
     },
     "execution_count": 7,
     "metadata": {},
     "output_type": "execute_result"
    }
   ],
   "source": [
    "import requests\n",
    "import json\n",
    "\n",
    "url = 'https://restapi.amap.com/v3/geocode/geo'   # 输入API问号前固定不变的部分\n",
    "params = { 'key': 'f0c08f8f251d4dad75c314e5d668b230',\n",
    "           'address': '南京市'   }                # 将两个参数放入字典\n",
    "res = requests.get(url, params)\n",
    "res.text"
   ]
  },
  {
   "cell_type": "code",
   "execution_count": 6,
   "metadata": {},
   "outputs": [
    {
     "data": {
      "text/plain": [
       "{'status': '1',\n",
       " 'info': 'OK',\n",
       " 'infocode': '10000',\n",
       " 'count': '1',\n",
       " 'geocodes': [{'formatted_address': '北京市',\n",
       "   'country': '中国',\n",
       "   'province': '北京市',\n",
       "   'citycode': '010',\n",
       "   'city': '北京市',\n",
       "   'district': [],\n",
       "   'township': [],\n",
       "   'neighborhood': {'name': [], 'type': []},\n",
       "   'building': {'name': [], 'type': []},\n",
       "   'adcode': '110000',\n",
       "   'street': [],\n",
       "   'number': [],\n",
       "   'location': '116.407526,39.904030',\n",
       "   'level': '省'}]}"
      ]
     },
     "execution_count": 6,
     "metadata": {},
     "output_type": "execute_result"
    }
   ],
   "source": [
    "import requests\n",
    "import json\n",
    " \n",
    "url = 'https://restapi.amap.com/v3/geocode/geo'       # URL的固定部分\n",
    "params = { 'key': 'f0c08f8f251d4dad75c314e5d668b230',                     # 必填参数，密钥\n",
    "           'address': '北京',                     # 必填参数，结构化地址\n",
    "           'city': '北京市'             }             # 选填参数，不支持县级市\n",
    " \n",
    "res = requests.get(url, params)        # 发送请求，返回json格式数据\n",
    "jd = json.loads(res.text)              # 将json数据转化为Python字典格式\n",
    "jd                                     # 字典输出结果如下\n",
    "#jd['geocodes'][0]['location']          # 提取经纬度\n",
    "\n",
    "\n"
   ]
  },
  {
   "cell_type": "code",
   "execution_count": null,
   "metadata": {},
   "outputs": [],
   "source": []
  }
 ],
 "metadata": {
  "kernelspec": {
   "display_name": "Python 3",
   "language": "python",
   "name": "python3"
  },
  "language_info": {
   "codemirror_mode": {
    "name": "ipython",
    "version": 3
   },
   "file_extension": ".py",
   "mimetype": "text/x-python",
   "name": "python",
   "nbconvert_exporter": "python",
   "pygments_lexer": "ipython3",
   "version": "3.8.5"
  }
 },
 "nbformat": 4,
 "nbformat_minor": 4
}
